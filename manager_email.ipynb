{
 "cells": [
  {
   "cell_type": "markdown",
   "id": "61d6f25d",
   "metadata": {},
   "source": [
    "### Importing dependencies"
   ]
  },
  {
   "cell_type": "code",
   "execution_count": null,
   "id": "9892728b",
   "metadata": {
    "vscode": {
     "languageId": "plaintext"
    }
   },
   "outputs": [],
   "source": [
    "from selenium import webdriver\n",
    "from selenium.webdriver.common.by import By\n",
    "from selenium.webdriver.common.keys import Keys\n",
    "from selenium.webdriver.support.ui import Select, WebDriverWait\n",
    "from selenium.common.exceptions import NoSuchElementException\n",
    "from selenium.webdriver.common.action_chains import ActionChains\n",
    "import time\n",
    "import pandas as pd \n",
    "import winsound\n",
    "import ctypes\n",
    "# new addition - 11.03.2025\n",
    "from selenium.webdriver.support import expected_conditions as EC\n"
   ]
  },
  {
   "cell_type": "markdown",
   "id": "82018739",
   "metadata": {},
   "source": [
    "### Starting Selenium instance"
   ]
  },
  {
   "cell_type": "code",
   "execution_count": null,
   "id": "cac33ca2",
   "metadata": {
    "vscode": {
     "languageId": "plaintext"
    }
   },
   "outputs": [],
   "source": [
    "i=0\n",
    "while (i == 0):\n",
    "    options = webdriver.ChromeOptions()\n",
    "    options.add_experimental_option('detach', True)\n",
    "    driver = webdriver.Chrome(options=options)\n",
    "    driver.maximize_window()\n",
    "    driver.get('https://jnj.cepamobility.com') \n",
    "    actions = ActionChains(driver)\n",
    "    from InputManipulator import InputManipulator\n",
    "    input_manipulator = InputManipulator(driver)\n",
    "    input_manipulator.insert_information( 'name', 'username', 'andre.silva.fdm' ) \n",
    "    #input_manipulator.insert_information( 'name', 'username', 'vhossaki' )\n",
    "    #input_manipulator.insert_information( 'name', 'password','Vitor0102' )\n",
    "    input_manipulator.insert_information( 'name', 'password','Andre-2024' )\n",
    "    driver.find_element(By.XPATH, '//*[@id=\"password\"]').send_keys(Keys.ENTER)\n",
    "    time.sleep(0.4)\n",
    "    if(driver.find_element(By.CLASS_NAME, ('faixa-preta')).text == 'Exit'):\n",
    "        i =0\n",
    "        time.sleep(60)\n",
    "        driver.close()\n",
    "    else:\n",
    "        i=1"
   ]
  },
  {
   "cell_type": "markdown",
   "id": "40d13874",
   "metadata": {},
   "source": [
    "## Reading file, setting up dataframes and filtering them"
   ]
  },
  {
   "cell_type": "code",
   "execution_count": null,
   "id": "e531f80d",
   "metadata": {
    "vscode": {
     "languageId": "plaintext"
    }
   },
   "outputs": [],
   "source": [
    "# Path to the Excel file\n",
    "df = pd.read_excel(r'C:\\Users\\Andre\\Documents\\Johnson & Johnson\\fdm_operational_tools\\USA\\USA-master\\Active drivers gf cc - 13-10-25.xls')\n",
    "\n",
    "manager_emails = df['Manager Email']\n",
    "driver_emails = df['E-mail']\n",
    "manager_status = df['Manager(director)']\n",
    "\n",
    "# Created a Boolean Mask to filter the DataFrame (it returns True or False for each row in the DataFrame based on the condition provided in the isin() method for the 'E-mail' column)\n",
    "mask_is_in = df['E-mail'].isin(df['Manager Email'])\n",
    "# Filter the DataFrame using the mask and the condition for 'Manager(director)' column\n",
    "update_to_yes = df[mask_is_in & (df['Manager(director)'] == 'No')]\n",
    "\n",
    "mask_isnt_in = df['E-mail'].isin(df['Manager Email']) == False\n",
    "update_to_no = df[mask_isnt_in & (df['Manager(director)'] == 'Yes')]\n"
   ]
  },
  {
   "cell_type": "markdown",
   "id": "308bcd1f",
   "metadata": {},
   "source": [
    "#### Checking dataframes for update"
   ]
  },
  {
   "cell_type": "code",
   "execution_count": null,
   "id": "e3686147",
   "metadata": {
    "vscode": {
     "languageId": "plaintext"
    }
   },
   "outputs": [],
   "source": [
    "update_to_yes # updates managers from no to yes"
   ]
  },
  {
   "cell_type": "code",
   "execution_count": null,
   "id": "cecf4d93",
   "metadata": {
    "vscode": {
     "languageId": "plaintext"
    }
   },
   "outputs": [],
   "source": [
    "update_to_no"
   ]
  },
  {
   "cell_type": "markdown",
   "id": "9d499a42",
   "metadata": {},
   "source": [
    "### Manager no to yes"
   ]
  },
  {
   "cell_type": "code",
   "execution_count": null,
   "id": "d441afe8",
   "metadata": {
    "vscode": {
     "languageId": "plaintext"
    }
   },
   "outputs": [],
   "source": [
    "def select_option_value_toggle(name, element, driver):\n",
    "    toggle = Select(driver.find_element(By.NAME, name))\n",
    "    toggle.select_by_visible_text(element)\n",
    "    time.sleep(0.5)\n",
    "\n",
    "for index, row in update_to_yes.loc[:, :].iterrows():\n",
    "   \n",
    "   driver.get(f\"https://jnj.cepamobility.com/layout.jsp?refer=/driver/DriverView.jsp?id={str(int(row['ID']))}\")\n",
    "   driver.find_element(By.XPATH, '//a[contains(text(), \"Edit\")]').click()\n",
    "   time.sleep(0.5)\n",
    "   if(row['Manager(director)']=='No'):\n",
    "    driver.find_element(By.XPATH, '//*[@id=\"main-content\"]/form[1]/div/div/div/div/div[2]/div[2]/div[1]/div[7]/div/div/label[1]/input').click()\n",
    "   #if(row['opt']=='No'):\n",
    "   # driver.find_element(By.XPATH, '//*[@id=\"main-content\"]/form/div/div/div/div/div[2]/div[2]/div[1]/div[7]/div/div/label[2]/input').click()\n",
    "   \n",
    "   driver.find_element(By.NAME, 'comment').send_keys('Manager-status-edited-by-script-to-yes--aSilva.')\n",
    "   #time.sleep(0.5)\n",
    "   driver.find_element(By.XPATH, '//*[@id=\"main-content\"]/form[1]/div/div/div/div/div[2]/div[2]/div[4]/div/input[1]').click()\n",
    "   time.sleep(0.5)\n",
    "   print(index)"
   ]
  },
  {
   "cell_type": "markdown",
   "id": "7f336d18",
   "metadata": {},
   "source": [
    "### Manager yes to no"
   ]
  },
  {
   "cell_type": "code",
   "execution_count": null,
   "id": "6d9fb8af",
   "metadata": {
    "vscode": {
     "languageId": "plaintext"
    }
   },
   "outputs": [],
   "source": [
    "def select_option_value_toggle(name, element, driver):\n",
    "    toggle = Select(driver.find_element(By.NAME, name))\n",
    "    toggle.select_by_visible_text(element)\n",
    "    time.sleep(0.5)\n",
    "\n",
    "for index, row in update_to_no.loc[:, :].iterrows():\n",
    "   \n",
    "   driver.get(f\"https://jnj.cepamobility.com/layout.jsp?refer=/driver/DriverView.jsp?id={str(int(row['ID']))}\")\n",
    "   driver.find_element(By.XPATH, '//a[contains(text(), \"Edit\")]').click()\n",
    "   time.sleep(0.5)\n",
    "   if(row['Manager(director)']=='Yes'):\n",
    "    time.sleep(1.5)\n",
    "    driver.find_element(By.XPATH, '//*[@id=\"main-content\"]/form[1]/div/div/div/div/div[2]/div[2]/div[1]/div[7]/div/div/label[2]/input').click()\n",
    "    #driver.find_element(By.XPATH, '//*[@id=\"main-content\"]/form/div/div/div/div/div[2]/div[2]/div[1]/div[7]/div/div/label[1]/input').click()\n",
    "   #if(row['opt']=='No'):\n",
    "   driver.find_element(By.NAME, 'comment').send_keys('Manager-status-edited-by-script-to-no--aSilva.')\n",
    "   time.sleep(0.5)\n",
    "   driver.find_element(By.XPATH, '//*[@id=\"main-content\"]/form/div/div/div/div/div[2]/div[2]/div[4]/div/input[1]').click()\n",
    "   print(index)"
   ]
  },
  {
   "cell_type": "markdown",
   "id": "73cc790b",
   "metadata": {},
   "source": [
    "### Checking null emails, null manager emails and null managers"
   ]
  },
  {
   "cell_type": "code",
   "execution_count": null,
   "id": "c1af3e29",
   "metadata": {
    "vscode": {
     "languageId": "plaintext"
    }
   },
   "outputs": [],
   "source": [
    "# verificando emails vazios\n",
    "df[df['E-mail'].isnull()]"
   ]
  },
  {
   "cell_type": "code",
   "execution_count": null,
   "id": "a2cccff0",
   "metadata": {
    "vscode": {
     "languageId": "plaintext"
    }
   },
   "outputs": [],
   "source": [
    "# verificando manager emails vazios\n",
    "df[df['Manager Email'].isnull()]"
   ]
  },
  {
   "cell_type": "code",
   "execution_count": null,
   "id": "e1e3206b",
   "metadata": {
    "vscode": {
     "languageId": "plaintext"
    }
   },
   "outputs": [],
   "source": [
    "# verificando manager vazios\n",
    "df[df['Manager'].isnull()]"
   ]
  }
 ],
 "metadata": {
  "language_info": {
   "name": "python"
  }
 },
 "nbformat": 4,
 "nbformat_minor": 5
}
